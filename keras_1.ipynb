{
 "cells": [
  {
   "cell_type": "code",
   "execution_count": 1,
   "metadata": {},
   "outputs": [
    {
     "name": "stderr",
     "output_type": "stream",
     "text": [
      "/Users/markpotanin/anaconda3/lib/python3.6/site-packages/h5py/__init__.py:34: FutureWarning: Conversion of the second argument of issubdtype from `float` to `np.floating` is deprecated. In future, it will be treated as `np.float64 == np.dtype(float).type`.\n",
      "  from ._conv import register_converters as _register_converters\n",
      "Using TensorFlow backend.\n"
     ]
    }
   ],
   "source": [
    "from __future__ import print_function\n",
    "import numpy as np\n",
    "from keras.datasets import mnist\n",
    "from keras.models import Sequential\n",
    "from keras.layers.core import Dense, Activation\n",
    "from keras.optimizers import SGD\n",
    "from keras.utils import np_utils"
   ]
  },
  {
   "cell_type": "code",
   "execution_count": 9,
   "metadata": {
    "collapsed": true
   },
   "outputs": [],
   "source": [
    "from matplotlib import pyplot as plt"
   ]
  },
  {
   "cell_type": "code",
   "execution_count": 2,
   "metadata": {
    "collapsed": true
   },
   "outputs": [],
   "source": [
    "np.random.seed(42)"
   ]
  },
  {
   "cell_type": "code",
   "execution_count": 27,
   "metadata": {
    "collapsed": true
   },
   "outputs": [],
   "source": [
    "NB_EPOCH = 200\n",
    "BATCH_SIZE = 128\n",
    "VERBOSE = 1\n",
    "NB_CLASSES = 10   # количество предсказываемых классов\n",
    "OPTIMIZER = SGD() # используем SGD в качестве оптимизатора при бэкпропе\n",
    "N_HIDDEN = 128\n",
    "VALIDATION_SPLIT=0.2 "
   ]
  },
  {
   "cell_type": "code",
   "execution_count": 5,
   "metadata": {
    "collapsed": true
   },
   "outputs": [],
   "source": [
    "(X_train, y_train), (X_test, y_test) = mnist.load_data()\n"
   ]
  },
  {
   "cell_type": "code",
   "execution_count": 8,
   "metadata": {
    "scrolled": true
   },
   "outputs": [
    {
     "data": {
      "text/plain": [
       "array([[[0, 0, 0, ..., 0, 0, 0],\n",
       "        [0, 0, 0, ..., 0, 0, 0],\n",
       "        [0, 0, 0, ..., 0, 0, 0],\n",
       "        ...,\n",
       "        [0, 0, 0, ..., 0, 0, 0],\n",
       "        [0, 0, 0, ..., 0, 0, 0],\n",
       "        [0, 0, 0, ..., 0, 0, 0]],\n",
       "\n",
       "       [[0, 0, 0, ..., 0, 0, 0],\n",
       "        [0, 0, 0, ..., 0, 0, 0],\n",
       "        [0, 0, 0, ..., 0, 0, 0],\n",
       "        ...,\n",
       "        [0, 0, 0, ..., 0, 0, 0],\n",
       "        [0, 0, 0, ..., 0, 0, 0],\n",
       "        [0, 0, 0, ..., 0, 0, 0]],\n",
       "\n",
       "       [[0, 0, 0, ..., 0, 0, 0],\n",
       "        [0, 0, 0, ..., 0, 0, 0],\n",
       "        [0, 0, 0, ..., 0, 0, 0],\n",
       "        ...,\n",
       "        [0, 0, 0, ..., 0, 0, 0],\n",
       "        [0, 0, 0, ..., 0, 0, 0],\n",
       "        [0, 0, 0, ..., 0, 0, 0]],\n",
       "\n",
       "       ...,\n",
       "\n",
       "       [[0, 0, 0, ..., 0, 0, 0],\n",
       "        [0, 0, 0, ..., 0, 0, 0],\n",
       "        [0, 0, 0, ..., 0, 0, 0],\n",
       "        ...,\n",
       "        [0, 0, 0, ..., 0, 0, 0],\n",
       "        [0, 0, 0, ..., 0, 0, 0],\n",
       "        [0, 0, 0, ..., 0, 0, 0]],\n",
       "\n",
       "       [[0, 0, 0, ..., 0, 0, 0],\n",
       "        [0, 0, 0, ..., 0, 0, 0],\n",
       "        [0, 0, 0, ..., 0, 0, 0],\n",
       "        ...,\n",
       "        [0, 0, 0, ..., 0, 0, 0],\n",
       "        [0, 0, 0, ..., 0, 0, 0],\n",
       "        [0, 0, 0, ..., 0, 0, 0]],\n",
       "\n",
       "       [[0, 0, 0, ..., 0, 0, 0],\n",
       "        [0, 0, 0, ..., 0, 0, 0],\n",
       "        [0, 0, 0, ..., 0, 0, 0],\n",
       "        ...,\n",
       "        [0, 0, 0, ..., 0, 0, 0],\n",
       "        [0, 0, 0, ..., 0, 0, 0],\n",
       "        [0, 0, 0, ..., 0, 0, 0]]], dtype=uint8)"
      ]
     },
     "execution_count": 8,
     "metadata": {},
     "output_type": "execute_result"
    }
   ],
   "source": [
    "X_train"
   ]
  },
  {
   "cell_type": "code",
   "execution_count": 11,
   "metadata": {
    "scrolled": true
   },
   "outputs": [
    {
     "data": {
      "image/png": "[encoded data removed]",
      "text/plain": [
       "<Figure size 432x288 with 1 Axes>"
      ]
     },
     "metadata": {},
     "output_type": "display_data"
    }
   ],
   "source": [
    "plt.imshow(X_train[0])\n",
    "plt.show()"
   ]
  },
  {
   "cell_type": "code",
   "execution_count": 12,
   "metadata": {
    "scrolled": true
   },
   "outputs": [
    {
     "data": {
      "text/plain": [
       "array([[  0,   0,   0,   0,   0,   0,   0,   0,   0,   0,   0,   0,   0,\n",
       "          0,   0,   0,   0,   0,   0,   0,   0,   0,   0,   0,   0,   0,\n",
       "          0,   0],\n",
       "       [  0,   0,   0,   0,   0,   0,   0,   0,   0,   0,   0,   0,   0,\n",
       "          0,   0,   0,   0,   0,   0,   0,   0,   0,   0,   0,   0,   0,\n",
       "          0,   0],\n",
       "       [  0,   0,   0,   0,   0,   0,   0,   0,   0,   0,   0,   0,   0,\n",
       "          0,   0,   0,   0,   0,   0,   0,   0,   0,   0,   0,   0,   0,\n",
       "          0,   0],\n",
       "       [  0,   0,   0,   0,   0,   0,   0,   0,   0,   0,   0,   0,   0,\n",
       "          0,   0,   0,   0,   0,   0,   0,   0,   0,   0,   0,   0,   0,\n",
       "          0,   0],\n",
       "       [  0,   0,   0,   0,   0,   0,   0,   0,   0,   0,   0,   0,   0,\n",
       "          0,   0,   0,   0,   0,   0,   0,   0,   0,   0,   0,   0,   0,\n",
       "          0,   0],\n",
       "       [  0,   0,   0,   0,   0,   0,   0,   0,   0,   0,   0,   0,   3,\n",
       "         18,  18,  18, 126, 136, 175,  26, 166, 255, 247, 127,   0,   0,\n",
       "          0,   0],\n",
       "       [  0,   0,   0,   0,   0,   0,   0,   0,  30,  36,  94, 154, 170,\n",
       "        253, 253, 253, 253, 253, 225, 172, 253, 242, 195,  64,   0,   0,\n",
       "          0,   0],\n",
       "       [  0,   0,   0,   0,   0,   0,   0,  49, 238, 253, 253, 253, 253,\n",
       "        253, 253, 253, 253, 251,  93,  82,  82,  56,  39,   0,   0,   0,\n",
       "          0,   0],\n",
       "       [  0,   0,   0,   0,   0,   0,   0,  18, 219, 253, 253, 253, 253,\n",
       "        253, 198, 182, 247, 241,   0,   0,   0,   0,   0,   0,   0,   0,\n",
       "          0,   0],\n",
       "       [  0,   0,   0,   0,   0,   0,   0,   0,  80, 156, 107, 253, 253,\n",
       "        205,  11,   0,  43, 154,   0,   0,   0,   0,   0,   0,   0,   0,\n",
       "          0,   0],\n",
       "       [  0,   0,   0,   0,   0,   0,   0,   0,   0,  14,   1, 154, 253,\n",
       "         90,   0,   0,   0,   0,   0,   0,   0,   0,   0,   0,   0,   0,\n",
       "          0,   0],\n",
       "       [  0,   0,   0,   0,   0,   0,   0,   0,   0,   0,   0, 139, 253,\n",
       "        190,   2,   0,   0,   0,   0,   0,   0,   0,   0,   0,   0,   0,\n",
       "          0,   0],\n",
       "       [  0,   0,   0,   0,   0,   0,   0,   0,   0,   0,   0,  11, 190,\n",
       "        253,  70,   0,   0,   0,   0,   0,   0,   0,   0,   0,   0,   0,\n",
       "          0,   0],\n",
       "       [  0,   0,   0,   0,   0,   0,   0,   0,   0,   0,   0,   0,  35,\n",
       "        241, 225, 160, 108,   1,   0,   0,   0,   0,   0,   0,   0,   0,\n",
       "          0,   0],\n",
       "       [  0,   0,   0,   0,   0,   0,   0,   0,   0,   0,   0,   0,   0,\n",
       "         81, 240, 253, 253, 119,  25,   0,   0,   0,   0,   0,   0,   0,\n",
       "          0,   0],\n",
       "       [  0,   0,   0,   0,   0,   0,   0,   0,   0,   0,   0,   0,   0,\n",
       "          0,  45, 186, 253, 253, 150,  27,   0,   0,   0,   0,   0,   0,\n",
       "          0,   0],\n",
       "       [  0,   0,   0,   0,   0,   0,   0,   0,   0,   0,   0,   0,   0,\n",
       "          0,   0,  16,  93, 252, 253, 187,   0,   0,   0,   0,   0,   0,\n",
       "          0,   0],\n",
       "       [  0,   0,   0,   0,   0,   0,   0,   0,   0,   0,   0,   0,   0,\n",
       "          0,   0,   0,   0, 249, 253, 249,  64,   0,   0,   0,   0,   0,\n",
       "          0,   0],\n",
       "       [  0,   0,   0,   0,   0,   0,   0,   0,   0,   0,   0,   0,   0,\n",
       "          0,  46, 130, 183, 253, 253, 207,   2,   0,   0,   0,   0,   0,\n",
       "          0,   0],\n",
       "       [  0,   0,   0,   0,   0,   0,   0,   0,   0,   0,   0,   0,  39,\n",
       "        148, 229, 253, 253, 253, 250, 182,   0,   0,   0,   0,   0,   0,\n",
       "          0,   0],\n",
       "       [  0,   0,   0,   0,   0,   0,   0,   0,   0,   0,  24, 114, 221,\n",
       "        253, 253, 253, 253, 201,  78,   0,   0,   0,   0,   0,   0,   0,\n",
       "          0,   0],\n",
       "       [  0,   0,   0,   0,   0,   0,   0,   0,  23,  66, 213, 253, 253,\n",
       "        253, 253, 198,  81,   2,   0,   0,   0,   0,   0,   0,   0,   0,\n",
       "          0,   0],\n",
       "       [  0,   0,   0,   0,   0,   0,  18, 171, 219, 253, 253, 253, 253,\n",
       "        195,  80,   9,   0,   0,   0,   0,   0,   0,   0,   0,   0,   0,\n",
       "          0,   0],\n",
       "       [  0,   0,   0,   0,  55, 172, 226, 253, 253, 253, 253, 244, 133,\n",
       "         11,   0,   0,   0,   0,   0,   0,   0,   0,   0,   0,   0,   0,\n",
       "          0,   0],\n",
       "       [  0,   0,   0,   0, 136, 253, 253, 253, 212, 135, 132,  16,   0,\n",
       "          0,   0,   0,   0,   0,   0,   0,   0,   0,   0,   0,   0,   0,\n",
       "          0,   0],\n",
       "       [  0,   0,   0,   0,   0,   0,   0,   0,   0,   0,   0,   0,   0,\n",
       "          0,   0,   0,   0,   0,   0,   0,   0,   0,   0,   0,   0,   0,\n",
       "          0,   0],\n",
       "       [  0,   0,   0,   0,   0,   0,   0,   0,   0,   0,   0,   0,   0,\n",
       "          0,   0,   0,   0,   0,   0,   0,   0,   0,   0,   0,   0,   0,\n",
       "          0,   0],\n",
       "       [  0,   0,   0,   0,   0,   0,   0,   0,   0,   0,   0,   0,   0,\n",
       "          0,   0,   0,   0,   0,   0,   0,   0,   0,   0,   0,   0,   0,\n",
       "          0,   0]], dtype=uint8)"
      ]
     },
     "execution_count": 12,
     "metadata": {},
     "output_type": "execute_result"
    }
   ],
   "source": [
    "X_train[0]"
   ]
  },
  {
   "cell_type": "markdown",
   "metadata": {},
   "source": [
    "X_train состоит из 60000 строк, в каждой матрица размером 28x28  --> развернем их в 60000 x 784"
   ]
  },
  {
   "cell_type": "code",
   "execution_count": 13,
   "metadata": {
    "collapsed": true
   },
   "outputs": [],
   "source": [
    "RESHAPED = 784"
   ]
  },
  {
   "cell_type": "code",
   "execution_count": 14,
   "metadata": {
    "collapsed": true
   },
   "outputs": [],
   "source": [
    "X_train = X_train.reshape(60000, RESHAPED)\n",
    "X_test = X_test.reshape(10000, RESHAPED)\n",
    "X_train = X_train.astype('float32')\n",
    "X_test = X_test.astype('float32')"
   ]
  },
  {
   "cell_type": "markdown",
   "metadata": {},
   "source": [
    "Нормируем"
   ]
  },
  {
   "cell_type": "code",
   "execution_count": 16,
   "metadata": {},
   "outputs": [
    {
     "name": "stdout",
     "output_type": "stream",
     "text": [
      "60000 train samples\n",
      "10000 test samples\n"
     ]
    }
   ],
   "source": [
    "X_train /= 255\n",
    "X_test /= 255\n",
    "print(X_train.shape[0], 'train samples')\n",
    "print(X_test.shape[0], 'test samples')"
   ]
  },
  {
   "cell_type": "code",
   "execution_count": 19,
   "metadata": {},
   "outputs": [
    {
     "data": {
      "text/plain": [
       "array([5, 0, 4, ..., 5, 6, 8], dtype=uint8)"
      ]
     },
     "execution_count": 19,
     "metadata": {},
     "output_type": "execute_result"
    }
   ],
   "source": [
    "y_train"
   ]
  },
  {
   "cell_type": "markdown",
   "metadata": {},
   "source": [
    "Рзавернем таргеты в бинарные таблички"
   ]
  },
  {
   "cell_type": "code",
   "execution_count": 20,
   "metadata": {
    "collapsed": true
   },
   "outputs": [],
   "source": [
    "Y_train = np_utils.to_categorical(y_train, NB_CLASSES)\n",
    "Y_test = np_utils.to_categorical(y_test, NB_CLASSES)"
   ]
  },
  {
   "cell_type": "code",
   "execution_count": 21,
   "metadata": {},
   "outputs": [
    {
     "data": {
      "text/plain": [
       "array([[0., 0., 0., ..., 0., 0., 0.],\n",
       "       [1., 0., 0., ..., 0., 0., 0.],\n",
       "       [0., 0., 0., ..., 0., 0., 0.],\n",
       "       ...,\n",
       "       [0., 0., 0., ..., 0., 0., 0.],\n",
       "       [0., 0., 0., ..., 0., 0., 0.],\n",
       "       [0., 0., 0., ..., 0., 1., 0.]])"
      ]
     },
     "execution_count": 21,
     "metadata": {},
     "output_type": "execute_result"
    }
   ],
   "source": [
    "Y_train"
   ]
  },
  {
   "cell_type": "markdown",
   "metadata": {},
   "source": [
    "А вот собственно и модель из 3 строк"
   ]
  },
  {
   "cell_type": "code",
   "execution_count": 30,
   "metadata": {
    "collapsed": true
   },
   "outputs": [],
   "source": [
    "model = Sequential()\n",
    "model.add(Dense(N_HIDDEN, input_shape=(RESHAPED,)))\n",
    "model.add(Activation('relu'))\n",
    "model.add(Dense(N_HIDDEN))\n",
    "model.add(Activation('relu'))\n",
    "model.add(Dense(NB_CLASSES))\n",
    "model.add(Activation('softmax'))"
   ]
  },
  {
   "cell_type": "markdown",
   "metadata": {},
   "source": [
    "Softmax сплющивает k-мерный вектор, содержащий произвольные вещественные числа, в k-мерный вектор вещественных чисел из интервала (0,1). В нашем случае она аггрегирует 10 ответов, выданных предыдущим слоем из  10 нейронов."
   ]
  },
  {
   "cell_type": "code",
   "execution_count": 31,
   "metadata": {},
   "outputs": [
    {
     "name": "stdout",
     "output_type": "stream",
     "text": [
      "_________________________________________________________________\n",
      "Layer (type)                 Output Shape              Param #   \n",
      "=================================================================\n",
      "dense_5 (Dense)              (None, 128)               100480    \n",
      "_________________________________________________________________\n",
      "activation_5 (Activation)    (None, 128)               0         \n",
      "_________________________________________________________________\n",
      "dense_6 (Dense)              (None, 128)               16512     \n",
      "_________________________________________________________________\n",
      "activation_6 (Activation)    (None, 128)               0         \n",
      "_________________________________________________________________\n",
      "dense_7 (Dense)              (None, 10)                1290      \n",
      "_________________________________________________________________\n",
      "activation_7 (Activation)    (None, 10)                0         \n",
      "=================================================================\n",
      "Total params: 118,282\n",
      "Trainable params: 118,282\n",
      "Non-trainable params: 0\n",
      "_________________________________________________________________\n"
     ]
    }
   ],
   "source": [
    "model.summary()"
   ]
  },
  {
   "cell_type": "markdown",
   "metadata": {},
   "source": [
    "Определенную модель теперь нужно откомпилировать, то есть привести к виду, допускающему исполнение базовой библиотекой (Theano или Tensorflow). Перед компиляцией необходимо выбрать:\n",
    "* Выбрать оптимизатор, то есть конкретный алгоритм, который будет обновлять веса в процессе обучения модели\n",
    "* Выбрать целевую функцию, которую оптимизатор использует для навигации по пространству весов\n",
    "* Оценить качество обученной модели\n",
    "\n",
    "categorical_crossentropy - как бинарная, только для нескольких классов"
   ]
  },
  {
   "cell_type": "code",
   "execution_count": 32,
   "metadata": {
    "collapsed": true
   },
   "outputs": [],
   "source": [
    "model.compile(loss='categorical_crossentropy',\n",
    "              optimizer=OPTIMIZER,\n",
    "              metrics=['accuracy'])"
   ]
  },
  {
   "cell_type": "code",
   "execution_count": 33,
   "metadata": {
    "scrolled": true
   },
   "outputs": [
    {
     "name": "stdout",
     "output_type": "stream",
     "text": [
      "Train on 48000 samples, validate on 12000 samples\n",
      "Epoch 1/200\n",
      "48000/48000 [==============================] - 1s 28us/step - loss: 1.3536 - acc: 0.6821 - val_loss: 0.6753 - val_acc: 0.8496\n",
      "Epoch 2/200\n",
      "48000/48000 [==============================] - 1s 23us/step - loss: 0.5587 - acc: 0.8586 - val_loss: 0.4328 - val_acc: 0.8883\n",
      "Epoch 3/200\n",
      "48000/48000 [==============================] - 1s 23us/step - loss: 0.4245 - acc: 0.8851 - val_loss: 0.3637 - val_acc: 0.9013\n",
      "Epoch 4/200\n",
      "48000/48000 [==============================] - 1s 23us/step - loss: 0.3721 - acc: 0.8955 - val_loss: 0.3289 - val_acc: 0.9072\n",
      "Epoch 5/200\n",
      "48000/48000 [==============================] - 1s 23us/step - loss: 0.3413 - acc: 0.9038 - val_loss: 0.3079 - val_acc: 0.9123\n",
      "Epoch 6/200\n",
      "48000/48000 [==============================] - 1s 23us/step - loss: 0.3200 - acc: 0.9090 - val_loss: 0.2912 - val_acc: 0.9183\n",
      "Epoch 7/200\n",
      "48000/48000 [==============================] - 1s 26us/step - loss: 0.3034 - acc: 0.9133 - val_loss: 0.2776 - val_acc: 0.9222\n",
      "Epoch 8/200\n",
      "48000/48000 [==============================] - 1s 25us/step - loss: 0.2896 - acc: 0.9175 - val_loss: 0.2681 - val_acc: 0.9251\n",
      "Epoch 9/200\n",
      "48000/48000 [==============================] - 1s 22us/step - loss: 0.2779 - acc: 0.9208 - val_loss: 0.2587 - val_acc: 0.9281\n",
      "Epoch 10/200\n",
      "48000/48000 [==============================] - 1s 22us/step - loss: 0.2673 - acc: 0.9237 - val_loss: 0.2495 - val_acc: 0.9305\n",
      "Epoch 11/200\n",
      "48000/48000 [==============================] - 1s 22us/step - loss: 0.2577 - acc: 0.9265 - val_loss: 0.2447 - val_acc: 0.9302\n",
      "Epoch 12/200\n",
      "48000/48000 [==============================] - 1s 22us/step - loss: 0.2491 - acc: 0.9291 - val_loss: 0.2353 - val_acc: 0.9331\n",
      "Epoch 13/200\n",
      "48000/48000 [==============================] - 1s 22us/step - loss: 0.2412 - acc: 0.9312 - val_loss: 0.2297 - val_acc: 0.9343\n",
      "Epoch 14/200\n",
      "48000/48000 [==============================] - 1s 22us/step - loss: 0.2339 - acc: 0.9333 - val_loss: 0.2232 - val_acc: 0.9363\n",
      "Epoch 15/200\n",
      "48000/48000 [==============================] - 1s 22us/step - loss: 0.2268 - acc: 0.9353 - val_loss: 0.2185 - val_acc: 0.9383\n",
      "Epoch 16/200\n",
      "48000/48000 [==============================] - 1s 22us/step - loss: 0.2201 - acc: 0.9371 - val_loss: 0.2125 - val_acc: 0.9393\n",
      "Epoch 17/200\n",
      "48000/48000 [==============================] - 1s 22us/step - loss: 0.2137 - acc: 0.9390 - val_loss: 0.2090 - val_acc: 0.9414\n",
      "Epoch 18/200\n",
      "48000/48000 [==============================] - 1s 22us/step - loss: 0.2078 - acc: 0.9408 - val_loss: 0.2035 - val_acc: 0.9430\n",
      "Epoch 19/200\n",
      "48000/48000 [==============================] - 1s 22us/step - loss: 0.2021 - acc: 0.9421 - val_loss: 0.1982 - val_acc: 0.9447\n",
      "Epoch 20/200\n",
      "48000/48000 [==============================] - 1s 22us/step - loss: 0.1966 - acc: 0.9446 - val_loss: 0.1952 - val_acc: 0.9445\n",
      "Epoch 21/200\n",
      "48000/48000 [==============================] - 1s 23us/step - loss: 0.1916 - acc: 0.9453 - val_loss: 0.1904 - val_acc: 0.9463\n",
      "Epoch 22/200\n",
      "48000/48000 [==============================] - 1s 22us/step - loss: 0.1869 - acc: 0.9464 - val_loss: 0.1861 - val_acc: 0.9483\n",
      "Epoch 23/200\n",
      "48000/48000 [==============================] - 1s 22us/step - loss: 0.1819 - acc: 0.9479 - val_loss: 0.1821 - val_acc: 0.9479\n",
      "Epoch 24/200\n",
      "48000/48000 [==============================] - 1s 22us/step - loss: 0.1775 - acc: 0.9489 - val_loss: 0.1793 - val_acc: 0.9495\n",
      "Epoch 25/200\n",
      "48000/48000 [==============================] - 1s 22us/step - loss: 0.1731 - acc: 0.9506 - val_loss: 0.1760 - val_acc: 0.9507\n",
      "Epoch 26/200\n",
      "48000/48000 [==============================] - 1s 22us/step - loss: 0.1690 - acc: 0.9517 - val_loss: 0.1727 - val_acc: 0.9525\n",
      "Epoch 27/200\n",
      "48000/48000 [==============================] - 1s 22us/step - loss: 0.1650 - acc: 0.9529 - val_loss: 0.1700 - val_acc: 0.9528\n",
      "Epoch 28/200\n",
      "48000/48000 [==============================] - 1s 22us/step - loss: 0.1612 - acc: 0.9534 - val_loss: 0.1666 - val_acc: 0.9537\n",
      "Epoch 29/200\n",
      "48000/48000 [==============================] - 1s 22us/step - loss: 0.1574 - acc: 0.9549 - val_loss: 0.1641 - val_acc: 0.9550\n",
      "Epoch 30/200\n",
      "48000/48000 [==============================] - 1s 22us/step - loss: 0.1540 - acc: 0.9554 - val_loss: 0.1608 - val_acc: 0.9557\n",
      "Epoch 31/200\n",
      "48000/48000 [==============================] - 1s 22us/step - loss: 0.1507 - acc: 0.9570 - val_loss: 0.1587 - val_acc: 0.9568\n",
      "Epoch 32/200\n",
      "48000/48000 [==============================] - 1s 23us/step - loss: 0.1473 - acc: 0.9579 - val_loss: 0.1558 - val_acc: 0.9578\n",
      "Epoch 33/200\n",
      "48000/48000 [==============================] - 1s 22us/step - loss: 0.1441 - acc: 0.9592 - val_loss: 0.1540 - val_acc: 0.9578\n",
      "Epoch 34/200\n",
      "48000/48000 [==============================] - 1s 23us/step - loss: 0.1411 - acc: 0.9599 - val_loss: 0.1511 - val_acc: 0.9585\n",
      "Epoch 35/200\n",
      "48000/48000 [==============================] - 1s 22us/step - loss: 0.1381 - acc: 0.9607 - val_loss: 0.1498 - val_acc: 0.9593\n",
      "Epoch 36/200\n",
      "48000/48000 [==============================] - 1s 22us/step - loss: 0.1355 - acc: 0.9615 - val_loss: 0.1475 - val_acc: 0.9602\n",
      "Epoch 37/200\n",
      "48000/48000 [==============================] - 1s 22us/step - loss: 0.1326 - acc: 0.9622 - val_loss: 0.1452 - val_acc: 0.9609\n",
      "Epoch 38/200\n",
      "48000/48000 [==============================] - 1s 23us/step - loss: 0.1296 - acc: 0.9632 - val_loss: 0.1448 - val_acc: 0.9603\n",
      "Epoch 39/200\n",
      "48000/48000 [==============================] - 1s 22us/step - loss: 0.1275 - acc: 0.9641 - val_loss: 0.1421 - val_acc: 0.9618\n",
      "Epoch 40/200\n",
      "48000/48000 [==============================] - 1s 23us/step - loss: 0.1247 - acc: 0.9650 - val_loss: 0.1397 - val_acc: 0.9612\n",
      "Epoch 41/200\n",
      "48000/48000 [==============================] - 1s 22us/step - loss: 0.1224 - acc: 0.9656 - val_loss: 0.1378 - val_acc: 0.9627\n",
      "Epoch 42/200\n",
      "48000/48000 [==============================] - 1s 22us/step - loss: 0.1201 - acc: 0.9664 - val_loss: 0.1362 - val_acc: 0.9622\n",
      "Epoch 43/200\n",
      "48000/48000 [==============================] - 1s 23us/step - loss: 0.1178 - acc: 0.9665 - val_loss: 0.1349 - val_acc: 0.9634\n",
      "Epoch 44/200\n",
      "48000/48000 [==============================] - 1s 22us/step - loss: 0.1156 - acc: 0.9679 - val_loss: 0.1331 - val_acc: 0.9633\n",
      "Epoch 45/200\n",
      "48000/48000 [==============================] - 1s 23us/step - loss: 0.1133 - acc: 0.9683 - val_loss: 0.1330 - val_acc: 0.9634\n",
      "Epoch 46/200\n",
      "48000/48000 [==============================] - 1s 22us/step - loss: 0.1115 - acc: 0.9688 - val_loss: 0.1302 - val_acc: 0.9642\n",
      "Epoch 47/200\n",
      "48000/48000 [==============================] - 1s 23us/step - loss: 0.1093 - acc: 0.9694 - val_loss: 0.1288 - val_acc: 0.9644\n",
      "Epoch 48/200\n",
      "48000/48000 [==============================] - 1s 23us/step - loss: 0.1074 - acc: 0.9700 - val_loss: 0.1283 - val_acc: 0.9642\n",
      "Epoch 49/200\n",
      "48000/48000 [==============================] - 1s 23us/step - loss: 0.1055 - acc: 0.9704 - val_loss: 0.1266 - val_acc: 0.9653\n",
      "Epoch 50/200\n",
      "48000/48000 [==============================] - 1s 22us/step - loss: 0.1036 - acc: 0.9713 - val_loss: 0.1267 - val_acc: 0.9645\n",
      "Epoch 51/200\n",
      "48000/48000 [==============================] - 1s 24us/step - loss: 0.1018 - acc: 0.9713 - val_loss: 0.1239 - val_acc: 0.9654\n",
      "Epoch 52/200\n",
      "48000/48000 [==============================] - 1s 23us/step - loss: 0.1000 - acc: 0.9719 - val_loss: 0.1231 - val_acc: 0.9662\n",
      "Epoch 53/200\n",
      "48000/48000 [==============================] - 1s 23us/step - loss: 0.0984 - acc: 0.9723 - val_loss: 0.1224 - val_acc: 0.9662\n",
      "Epoch 54/200\n",
      "48000/48000 [==============================] - 1s 23us/step - loss: 0.0966 - acc: 0.9727 - val_loss: 0.1209 - val_acc: 0.9659\n",
      "Epoch 55/200\n",
      "48000/48000 [==============================] - 1s 23us/step - loss: 0.0951 - acc: 0.9733 - val_loss: 0.1215 - val_acc: 0.9658\n",
      "Epoch 56/200\n",
      "48000/48000 [==============================] - 1s 24us/step - loss: 0.0935 - acc: 0.9738 - val_loss: 0.1190 - val_acc: 0.9668\n",
      "Epoch 57/200\n",
      "48000/48000 [==============================] - 1s 26us/step - loss: 0.0919 - acc: 0.9741 - val_loss: 0.1183 - val_acc: 0.9672\n",
      "Epoch 58/200\n",
      "48000/48000 [==============================] - 1s 29us/step - loss: 0.0905 - acc: 0.9747 - val_loss: 0.1164 - val_acc: 0.9672\n",
      "Epoch 59/200\n",
      "48000/48000 [==============================] - 1s 25us/step - loss: 0.0888 - acc: 0.9759 - val_loss: 0.1172 - val_acc: 0.9671\n",
      "Epoch 60/200\n",
      "48000/48000 [==============================] - 1s 25us/step - loss: 0.0876 - acc: 0.9756 - val_loss: 0.1151 - val_acc: 0.9677\n",
      "Epoch 61/200\n",
      "48000/48000 [==============================] - 1s 24us/step - loss: 0.0861 - acc: 0.9761 - val_loss: 0.1139 - val_acc: 0.9677\n",
      "Epoch 62/200\n",
      "48000/48000 [==============================] - 1s 24us/step - loss: 0.0848 - acc: 0.9761 - val_loss: 0.1132 - val_acc: 0.9680\n",
      "Epoch 63/200\n",
      "48000/48000 [==============================] - 1s 24us/step - loss: 0.0834 - acc: 0.9768 - val_loss: 0.1126 - val_acc: 0.9685\n",
      "Epoch 64/200\n",
      "48000/48000 [==============================] - 1s 30us/step - loss: 0.0823 - acc: 0.9769 - val_loss: 0.1117 - val_acc: 0.9685\n",
      "Epoch 65/200\n",
      "48000/48000 [==============================] - 1s 25us/step - loss: 0.0809 - acc: 0.9775 - val_loss: 0.1105 - val_acc: 0.9685\n",
      "Epoch 66/200\n",
      "48000/48000 [==============================] - 1s 23us/step - loss: 0.0797 - acc: 0.9780 - val_loss: 0.1104 - val_acc: 0.9697\n",
      "Epoch 67/200\n",
      "48000/48000 [==============================] - 1s 26us/step - loss: 0.0784 - acc: 0.9780 - val_loss: 0.1095 - val_acc: 0.9698\n",
      "Epoch 68/200\n",
      "48000/48000 [==============================] - 1s 26us/step - loss: 0.0773 - acc: 0.9788 - val_loss: 0.1088 - val_acc: 0.9694\n",
      "Epoch 69/200\n",
      "48000/48000 [==============================] - 1s 28us/step - loss: 0.0761 - acc: 0.9789 - val_loss: 0.1105 - val_acc: 0.9687\n",
      "Epoch 70/200\n",
      "48000/48000 [==============================] - 1s 25us/step - loss: 0.0750 - acc: 0.9793 - val_loss: 0.1083 - val_acc: 0.9697\n",
      "Epoch 71/200\n",
      "48000/48000 [==============================] - 1s 29us/step - loss: 0.0740 - acc: 0.9797 - val_loss: 0.1067 - val_acc: 0.9698\n",
      "Epoch 72/200\n",
      "48000/48000 [==============================] - 1s 24us/step - loss: 0.0727 - acc: 0.9802 - val_loss: 0.1062 - val_acc: 0.9702\n",
      "Epoch 73/200\n",
      "48000/48000 [==============================] - 1s 23us/step - loss: 0.0718 - acc: 0.9801 - val_loss: 0.1057 - val_acc: 0.9707\n",
      "Epoch 74/200\n",
      "48000/48000 [==============================] - 1s 24us/step - loss: 0.0706 - acc: 0.9810 - val_loss: 0.1051 - val_acc: 0.9701\n",
      "Epoch 75/200\n",
      "48000/48000 [==============================] - 1s 23us/step - loss: 0.0698 - acc: 0.9810 - val_loss: 0.1044 - val_acc: 0.9702\n",
      "Epoch 76/200\n",
      "48000/48000 [==============================] - 1s 24us/step - loss: 0.0687 - acc: 0.9814 - val_loss: 0.1039 - val_acc: 0.9708\n",
      "Epoch 77/200\n",
      "48000/48000 [==============================] - 1s 26us/step - loss: 0.0677 - acc: 0.9816 - val_loss: 0.1031 - val_acc: 0.9708\n",
      "Epoch 78/200\n",
      "48000/48000 [==============================] - 1s 25us/step - loss: 0.0668 - acc: 0.9821 - val_loss: 0.1029 - val_acc: 0.9706\n",
      "Epoch 79/200\n",
      "48000/48000 [==============================] - 1s 25us/step - loss: 0.0658 - acc: 0.9827 - val_loss: 0.1027 - val_acc: 0.9713\n",
      "Epoch 80/200\n",
      "48000/48000 [==============================] - 1s 27us/step - loss: 0.0649 - acc: 0.9825 - val_loss: 0.1021 - val_acc: 0.9712\n",
      "Epoch 81/200\n",
      "48000/48000 [==============================] - 1s 28us/step - loss: 0.0640 - acc: 0.9830 - val_loss: 0.1018 - val_acc: 0.9709\n",
      "Epoch 82/200\n",
      "48000/48000 [==============================] - 1s 24us/step - loss: 0.0632 - acc: 0.9834 - val_loss: 0.1009 - val_acc: 0.9714\n",
      "Epoch 83/200\n",
      "48000/48000 [==============================] - 1s 24us/step - loss: 0.0622 - acc: 0.9833 - val_loss: 0.1006 - val_acc: 0.9722\n",
      "Epoch 84/200\n",
      "48000/48000 [==============================] - 1s 26us/step - loss: 0.0614 - acc: 0.9837 - val_loss: 0.1006 - val_acc: 0.9713\n",
      "Epoch 85/200\n",
      "48000/48000 [==============================] - 1s 24us/step - loss: 0.0606 - acc: 0.9839 - val_loss: 0.0993 - val_acc: 0.9711\n",
      "Epoch 86/200\n",
      "48000/48000 [==============================] - 2s 35us/step - loss: 0.0598 - acc: 0.9841 - val_loss: 0.0995 - val_acc: 0.9716\n",
      "Epoch 87/200\n",
      "48000/48000 [==============================] - 1s 24us/step - loss: 0.0589 - acc: 0.9840 - val_loss: 0.1006 - val_acc: 0.9727\n",
      "Epoch 88/200\n",
      "48000/48000 [==============================] - 1s 23us/step - loss: 0.0581 - acc: 0.9845 - val_loss: 0.0991 - val_acc: 0.9719\n",
      "Epoch 89/200\n",
      "48000/48000 [==============================] - 1s 24us/step - loss: 0.0574 - acc: 0.9849 - val_loss: 0.0987 - val_acc: 0.9723\n",
      "Epoch 90/200\n",
      "48000/48000 [==============================] - 1s 26us/step - loss: 0.0567 - acc: 0.9850 - val_loss: 0.0983 - val_acc: 0.9724\n",
      "Epoch 91/200\n",
      "48000/48000 [==============================] - 1s 26us/step - loss: 0.0559 - acc: 0.9851 - val_loss: 0.0985 - val_acc: 0.9723\n",
      "Epoch 92/200\n",
      "48000/48000 [==============================] - 1s 25us/step - loss: 0.0551 - acc: 0.9854 - val_loss: 0.0988 - val_acc: 0.9724\n",
      "Epoch 93/200\n",
      "48000/48000 [==============================] - 1s 24us/step - loss: 0.0544 - acc: 0.9855 - val_loss: 0.0967 - val_acc: 0.9726\n",
      "Epoch 94/200\n",
      "48000/48000 [==============================] - 1s 26us/step - loss: 0.0538 - acc: 0.9860 - val_loss: 0.0973 - val_acc: 0.9733\n",
      "Epoch 95/200\n",
      "48000/48000 [==============================] - 1s 24us/step - loss: 0.0530 - acc: 0.9860 - val_loss: 0.0962 - val_acc: 0.9732\n",
      "Epoch 96/200\n",
      "48000/48000 [==============================] - 1s 27us/step - loss: 0.0524 - acc: 0.9863 - val_loss: 0.0963 - val_acc: 0.9727\n",
      "Epoch 97/200\n",
      "48000/48000 [==============================] - 1s 26us/step - loss: 0.0518 - acc: 0.9864 - val_loss: 0.0961 - val_acc: 0.9727\n",
      "Epoch 98/200\n",
      "48000/48000 [==============================] - 1s 24us/step - loss: 0.0512 - acc: 0.9867 - val_loss: 0.0952 - val_acc: 0.9732\n",
      "Epoch 99/200\n",
      "48000/48000 [==============================] - 1s 24us/step - loss: 0.0504 - acc: 0.9871 - val_loss: 0.0946 - val_acc: 0.9733\n",
      "Epoch 100/200\n",
      "48000/48000 [==============================] - 1s 24us/step - loss: 0.0498 - acc: 0.9872 - val_loss: 0.0956 - val_acc: 0.9733\n",
      "Epoch 101/200\n",
      "48000/48000 [==============================] - 1s 24us/step - loss: 0.0491 - acc: 0.9872 - val_loss: 0.0955 - val_acc: 0.9733\n",
      "Epoch 102/200\n",
      "48000/48000 [==============================] - 1s 25us/step - loss: 0.0486 - acc: 0.9875 - val_loss: 0.0940 - val_acc: 0.9727\n",
      "Epoch 103/200\n",
      "48000/48000 [==============================] - 1s 23us/step - loss: 0.0480 - acc: 0.9878 - val_loss: 0.0944 - val_acc: 0.9738\n",
      "Epoch 104/200\n",
      "48000/48000 [==============================] - 1s 23us/step - loss: 0.0472 - acc: 0.9882 - val_loss: 0.0949 - val_acc: 0.9738\n",
      "Epoch 105/200\n",
      "48000/48000 [==============================] - 1s 26us/step - loss: 0.0468 - acc: 0.9884 - val_loss: 0.0942 - val_acc: 0.9737\n",
      "Epoch 106/200\n",
      "48000/48000 [==============================] - 1s 23us/step - loss: 0.0461 - acc: 0.9883 - val_loss: 0.0946 - val_acc: 0.9739\n",
      "Epoch 107/200\n",
      "48000/48000 [==============================] - 1s 24us/step - loss: 0.0456 - acc: 0.9886 - val_loss: 0.0932 - val_acc: 0.9742\n",
      "Epoch 108/200\n",
      "48000/48000 [==============================] - 1s 23us/step - loss: 0.0451 - acc: 0.9887 - val_loss: 0.0936 - val_acc: 0.9737\n",
      "Epoch 109/200\n",
      "48000/48000 [==============================] - 1s 26us/step - loss: 0.0446 - acc: 0.9889 - val_loss: 0.0932 - val_acc: 0.9743\n",
      "Epoch 110/200\n",
      "48000/48000 [==============================] - 1s 23us/step - loss: 0.0438 - acc: 0.9889 - val_loss: 0.0933 - val_acc: 0.9740\n",
      "Epoch 111/200\n",
      "48000/48000 [==============================] - 1s 25us/step - loss: 0.0434 - acc: 0.9893 - val_loss: 0.0928 - val_acc: 0.9744\n",
      "Epoch 112/200\n",
      "48000/48000 [==============================] - 1s 24us/step - loss: 0.0430 - acc: 0.9893 - val_loss: 0.0929 - val_acc: 0.9740\n",
      "Epoch 113/200\n",
      "48000/48000 [==============================] - 1s 24us/step - loss: 0.0424 - acc: 0.9895 - val_loss: 0.0918 - val_acc: 0.9747\n",
      "Epoch 114/200\n",
      "48000/48000 [==============================] - 1s 25us/step - loss: 0.0419 - acc: 0.9896 - val_loss: 0.0922 - val_acc: 0.9741\n",
      "Epoch 115/200\n",
      "48000/48000 [==============================] - 1s 24us/step - loss: 0.0414 - acc: 0.9900 - val_loss: 0.0928 - val_acc: 0.9741\n",
      "Epoch 116/200\n",
      "48000/48000 [==============================] - 1s 23us/step - loss: 0.0408 - acc: 0.9900 - val_loss: 0.0919 - val_acc: 0.9742\n",
      "Epoch 117/200\n",
      "48000/48000 [==============================] - 1s 23us/step - loss: 0.0405 - acc: 0.9900 - val_loss: 0.0913 - val_acc: 0.9748\n"
     ]
    },
    {
     "name": "stdout",
     "output_type": "stream",
     "text": [
      "Epoch 118/200\n",
      "48000/48000 [==============================] - 1s 25us/step - loss: 0.0399 - acc: 0.9903 - val_loss: 0.0921 - val_acc: 0.9740\n",
      "Epoch 119/200\n",
      "48000/48000 [==============================] - 1s 27us/step - loss: 0.0394 - acc: 0.9902 - val_loss: 0.0924 - val_acc: 0.9748\n",
      "Epoch 120/200\n",
      "48000/48000 [==============================] - 1s 26us/step - loss: 0.0390 - acc: 0.9908 - val_loss: 0.0911 - val_acc: 0.9750\n",
      "Epoch 121/200\n",
      "48000/48000 [==============================] - 1s 23us/step - loss: 0.0385 - acc: 0.9905 - val_loss: 0.0910 - val_acc: 0.9748\n",
      "Epoch 122/200\n",
      "48000/48000 [==============================] - 1s 24us/step - loss: 0.0381 - acc: 0.9910 - val_loss: 0.0913 - val_acc: 0.9753\n",
      "Epoch 123/200\n",
      "48000/48000 [==============================] - 1s 23us/step - loss: 0.0377 - acc: 0.9910 - val_loss: 0.0904 - val_acc: 0.9748\n",
      "Epoch 124/200\n",
      "48000/48000 [==============================] - 1s 23us/step - loss: 0.0372 - acc: 0.9914 - val_loss: 0.0910 - val_acc: 0.9751\n",
      "Epoch 125/200\n",
      "48000/48000 [==============================] - 1s 22us/step - loss: 0.0367 - acc: 0.9916 - val_loss: 0.0913 - val_acc: 0.9749\n",
      "Epoch 126/200\n",
      "48000/48000 [==============================] - 1s 23us/step - loss: 0.0363 - acc: 0.9914 - val_loss: 0.0909 - val_acc: 0.9752\n",
      "Epoch 127/200\n",
      "48000/48000 [==============================] - 1s 23us/step - loss: 0.0358 - acc: 0.9917 - val_loss: 0.0909 - val_acc: 0.9750\n",
      "Epoch 128/200\n",
      "48000/48000 [==============================] - 1s 23us/step - loss: 0.0355 - acc: 0.9919 - val_loss: 0.0902 - val_acc: 0.9757\n",
      "Epoch 129/200\n",
      "48000/48000 [==============================] - 1s 22us/step - loss: 0.0349 - acc: 0.9922 - val_loss: 0.0903 - val_acc: 0.9747\n",
      "Epoch 130/200\n",
      "48000/48000 [==============================] - 1s 23us/step - loss: 0.0346 - acc: 0.9921 - val_loss: 0.0912 - val_acc: 0.9749\n",
      "Epoch 131/200\n",
      "48000/48000 [==============================] - 1s 29us/step - loss: 0.0342 - acc: 0.9922 - val_loss: 0.0911 - val_acc: 0.9749\n",
      "Epoch 132/200\n",
      "48000/48000 [==============================] - 1s 25us/step - loss: 0.0339 - acc: 0.9926 - val_loss: 0.0906 - val_acc: 0.9756\n",
      "Epoch 133/200\n",
      "48000/48000 [==============================] - 1s 25us/step - loss: 0.0334 - acc: 0.9926 - val_loss: 0.0910 - val_acc: 0.9750\n",
      "Epoch 134/200\n",
      "48000/48000 [==============================] - 1s 27us/step - loss: 0.0330 - acc: 0.9927 - val_loss: 0.0900 - val_acc: 0.9759\n",
      "Epoch 135/200\n",
      "48000/48000 [==============================] - 1s 25us/step - loss: 0.0327 - acc: 0.9929 - val_loss: 0.0898 - val_acc: 0.9750\n",
      "Epoch 136/200\n",
      "48000/48000 [==============================] - 1s 24us/step - loss: 0.0323 - acc: 0.9929 - val_loss: 0.0908 - val_acc: 0.9763\n",
      "Epoch 137/200\n",
      "48000/48000 [==============================] - 1s 23us/step - loss: 0.0320 - acc: 0.9930 - val_loss: 0.0895 - val_acc: 0.9751\n",
      "Epoch 138/200\n",
      "48000/48000 [==============================] - 1s 23us/step - loss: 0.0316 - acc: 0.9932 - val_loss: 0.0900 - val_acc: 0.9756\n",
      "Epoch 139/200\n",
      "48000/48000 [==============================] - 1s 23us/step - loss: 0.0312 - acc: 0.9931 - val_loss: 0.0902 - val_acc: 0.9758\n",
      "Epoch 140/200\n",
      "48000/48000 [==============================] - 1s 23us/step - loss: 0.0309 - acc: 0.9935 - val_loss: 0.0901 - val_acc: 0.9744\n",
      "Epoch 141/200\n",
      "48000/48000 [==============================] - 1s 23us/step - loss: 0.0304 - acc: 0.9932 - val_loss: 0.0903 - val_acc: 0.9753\n",
      "Epoch 142/200\n",
      "48000/48000 [==============================] - 1s 23us/step - loss: 0.0302 - acc: 0.9936 - val_loss: 0.0897 - val_acc: 0.9753\n",
      "Epoch 143/200\n",
      "48000/48000 [==============================] - 1s 23us/step - loss: 0.0298 - acc: 0.9937 - val_loss: 0.0893 - val_acc: 0.9753\n",
      "Epoch 144/200\n",
      "48000/48000 [==============================] - 1s 23us/step - loss: 0.0294 - acc: 0.9937 - val_loss: 0.0902 - val_acc: 0.9751\n",
      "Epoch 145/200\n",
      "48000/48000 [==============================] - 1s 24us/step - loss: 0.0291 - acc: 0.9938 - val_loss: 0.0893 - val_acc: 0.9757\n",
      "Epoch 146/200\n",
      "48000/48000 [==============================] - 1s 26us/step - loss: 0.0288 - acc: 0.9940 - val_loss: 0.0896 - val_acc: 0.9752\n",
      "Epoch 147/200\n",
      "48000/48000 [==============================] - 1s 28us/step - loss: 0.0286 - acc: 0.9939 - val_loss: 0.0890 - val_acc: 0.9756\n",
      "Epoch 148/200\n",
      "48000/48000 [==============================] - 1s 24us/step - loss: 0.0281 - acc: 0.9942 - val_loss: 0.0900 - val_acc: 0.9747\n",
      "Epoch 149/200\n",
      "48000/48000 [==============================] - 1s 25us/step - loss: 0.0279 - acc: 0.9940 - val_loss: 0.0903 - val_acc: 0.9757\n",
      "Epoch 150/200\n",
      "48000/48000 [==============================] - 1s 24us/step - loss: 0.0276 - acc: 0.9944 - val_loss: 0.0902 - val_acc: 0.9756\n",
      "Epoch 151/200\n",
      "48000/48000 [==============================] - 1s 27us/step - loss: 0.0272 - acc: 0.9940 - val_loss: 0.0899 - val_acc: 0.9756\n",
      "Epoch 152/200\n",
      "48000/48000 [==============================] - 1s 25us/step - loss: 0.0269 - acc: 0.9945 - val_loss: 0.0897 - val_acc: 0.9754\n",
      "Epoch 153/200\n",
      "48000/48000 [==============================] - 1s 25us/step - loss: 0.0266 - acc: 0.9948 - val_loss: 0.0895 - val_acc: 0.9752\n",
      "Epoch 154/200\n",
      "48000/48000 [==============================] - 1s 25us/step - loss: 0.0263 - acc: 0.9946 - val_loss: 0.0900 - val_acc: 0.9755\n",
      "Epoch 155/200\n",
      "48000/48000 [==============================] - 1s 24us/step - loss: 0.0260 - acc: 0.9947 - val_loss: 0.0895 - val_acc: 0.9752\n",
      "Epoch 156/200\n",
      "48000/48000 [==============================] - 1s 24us/step - loss: 0.0257 - acc: 0.9948 - val_loss: 0.0896 - val_acc: 0.9748\n",
      "Epoch 157/200\n",
      "48000/48000 [==============================] - 1s 24us/step - loss: 0.0255 - acc: 0.9948 - val_loss: 0.0895 - val_acc: 0.9751\n",
      "Epoch 158/200\n",
      "48000/48000 [==============================] - 1s 25us/step - loss: 0.0252 - acc: 0.9950 - val_loss: 0.0898 - val_acc: 0.9754\n",
      "Epoch 159/200\n",
      "48000/48000 [==============================] - 1s 23us/step - loss: 0.0249 - acc: 0.9951 - val_loss: 0.0907 - val_acc: 0.9740\n",
      "Epoch 160/200\n",
      "48000/48000 [==============================] - 1s 23us/step - loss: 0.0246 - acc: 0.9952 - val_loss: 0.0896 - val_acc: 0.9748\n",
      "Epoch 161/200\n",
      "48000/48000 [==============================] - 1s 22us/step - loss: 0.0244 - acc: 0.9952 - val_loss: 0.0901 - val_acc: 0.9753\n",
      "Epoch 162/200\n",
      "48000/48000 [==============================] - 1s 23us/step - loss: 0.0241 - acc: 0.9954 - val_loss: 0.0912 - val_acc: 0.9751\n",
      "Epoch 163/200\n",
      "48000/48000 [==============================] - 1s 22us/step - loss: 0.0238 - acc: 0.9954 - val_loss: 0.0898 - val_acc: 0.9750\n",
      "Epoch 164/200\n",
      "48000/48000 [==============================] - 1s 22us/step - loss: 0.0236 - acc: 0.9956 - val_loss: 0.0893 - val_acc: 0.9750\n",
      "Epoch 165/200\n",
      "48000/48000 [==============================] - 1s 23us/step - loss: 0.0233 - acc: 0.9956 - val_loss: 0.0896 - val_acc: 0.9752\n",
      "Epoch 166/200\n",
      "48000/48000 [==============================] - 1s 23us/step - loss: 0.0230 - acc: 0.9955 - val_loss: 0.0900 - val_acc: 0.9751\n",
      "Epoch 167/200\n",
      "48000/48000 [==============================] - 1s 22us/step - loss: 0.0227 - acc: 0.9956 - val_loss: 0.0893 - val_acc: 0.9749\n",
      "Epoch 168/200\n",
      "48000/48000 [==============================] - 1s 23us/step - loss: 0.0225 - acc: 0.9956 - val_loss: 0.0902 - val_acc: 0.9752\n",
      "Epoch 169/200\n",
      "48000/48000 [==============================] - 1s 22us/step - loss: 0.0223 - acc: 0.9958 - val_loss: 0.0896 - val_acc: 0.9750\n",
      "Epoch 170/200\n",
      "48000/48000 [==============================] - 1s 23us/step - loss: 0.0221 - acc: 0.9957 - val_loss: 0.0896 - val_acc: 0.9752\n",
      "Epoch 171/200\n",
      "48000/48000 [==============================] - 1s 22us/step - loss: 0.0218 - acc: 0.9958 - val_loss: 0.0905 - val_acc: 0.9748\n",
      "Epoch 172/200\n",
      "48000/48000 [==============================] - 1s 23us/step - loss: 0.0216 - acc: 0.9960 - val_loss: 0.0910 - val_acc: 0.9751\n",
      "Epoch 173/200\n",
      "48000/48000 [==============================] - 1s 22us/step - loss: 0.0213 - acc: 0.9959 - val_loss: 0.0906 - val_acc: 0.9749\n",
      "Epoch 174/200\n",
      "48000/48000 [==============================] - 1s 22us/step - loss: 0.0211 - acc: 0.9957 - val_loss: 0.0902 - val_acc: 0.9750\n",
      "Epoch 175/200\n",
      "48000/48000 [==============================] - 1s 22us/step - loss: 0.0208 - acc: 0.9961 - val_loss: 0.0899 - val_acc: 0.9753\n",
      "Epoch 176/200\n",
      "48000/48000 [==============================] - 1s 24us/step - loss: 0.0206 - acc: 0.9961 - val_loss: 0.0905 - val_acc: 0.9753\n",
      "Epoch 177/200\n",
      "48000/48000 [==============================] - 1s 27us/step - loss: 0.0204 - acc: 0.9963 - val_loss: 0.0903 - val_acc: 0.9748\n",
      "Epoch 178/200\n",
      "48000/48000 [==============================] - 1s 25us/step - loss: 0.0202 - acc: 0.9964 - val_loss: 0.0910 - val_acc: 0.9745\n",
      "Epoch 179/200\n",
      "48000/48000 [==============================] - 1s 23us/step - loss: 0.0200 - acc: 0.9962 - val_loss: 0.0903 - val_acc: 0.9751\n",
      "Epoch 180/200\n",
      "48000/48000 [==============================] - 1s 23us/step - loss: 0.0198 - acc: 0.9963 - val_loss: 0.0907 - val_acc: 0.9753\n",
      "Epoch 181/200\n",
      "48000/48000 [==============================] - 1s 23us/step - loss: 0.0196 - acc: 0.9964 - val_loss: 0.0915 - val_acc: 0.9753\n",
      "Epoch 182/200\n",
      "48000/48000 [==============================] - 1s 23us/step - loss: 0.0193 - acc: 0.9966 - val_loss: 0.0910 - val_acc: 0.9755\n",
      "Epoch 183/200\n",
      "48000/48000 [==============================] - 1s 22us/step - loss: 0.0192 - acc: 0.9965 - val_loss: 0.0906 - val_acc: 0.9750\n",
      "Epoch 184/200\n",
      "48000/48000 [==============================] - 1s 22us/step - loss: 0.0190 - acc: 0.9966 - val_loss: 0.0908 - val_acc: 0.9751\n",
      "Epoch 185/200\n",
      "48000/48000 [==============================] - 1s 22us/step - loss: 0.0187 - acc: 0.9967 - val_loss: 0.0905 - val_acc: 0.9752\n",
      "Epoch 186/200\n",
      "48000/48000 [==============================] - 1s 22us/step - loss: 0.0186 - acc: 0.9967 - val_loss: 0.0907 - val_acc: 0.9753\n",
      "Epoch 187/200\n",
      "48000/48000 [==============================] - 1s 22us/step - loss: 0.0184 - acc: 0.9968 - val_loss: 0.0908 - val_acc: 0.9747\n",
      "Epoch 188/200\n",
      "48000/48000 [==============================] - 1s 23us/step - loss: 0.0182 - acc: 0.9969 - val_loss: 0.0905 - val_acc: 0.9751\n",
      "Epoch 189/200\n",
      "48000/48000 [==============================] - 1s 22us/step - loss: 0.0180 - acc: 0.9969 - val_loss: 0.0908 - val_acc: 0.9750\n",
      "Epoch 190/200\n",
      "48000/48000 [==============================] - 1s 23us/step - loss: 0.0178 - acc: 0.9970 - val_loss: 0.0910 - val_acc: 0.9750\n",
      "Epoch 191/200\n",
      "48000/48000 [==============================] - 1s 22us/step - loss: 0.0177 - acc: 0.9971 - val_loss: 0.0908 - val_acc: 0.9753\n",
      "Epoch 192/200\n",
      "48000/48000 [==============================] - 1s 23us/step - loss: 0.0174 - acc: 0.9971 - val_loss: 0.0906 - val_acc: 0.9753\n",
      "Epoch 193/200\n",
      "48000/48000 [==============================] - 1s 22us/step - loss: 0.0173 - acc: 0.9971 - val_loss: 0.0911 - val_acc: 0.9750\n",
      "Epoch 194/200\n",
      "48000/48000 [==============================] - 1s 22us/step - loss: 0.0170 - acc: 0.9973 - val_loss: 0.0911 - val_acc: 0.9748\n",
      "Epoch 195/200\n",
      "48000/48000 [==============================] - 1s 22us/step - loss: 0.0169 - acc: 0.9972 - val_loss: 0.0912 - val_acc: 0.9749\n",
      "Epoch 196/200\n",
      "48000/48000 [==============================] - 1s 23us/step - loss: 0.0167 - acc: 0.9974 - val_loss: 0.0909 - val_acc: 0.9752\n",
      "Epoch 197/200\n",
      "48000/48000 [==============================] - 1s 22us/step - loss: 0.0165 - acc: 0.9974 - val_loss: 0.0916 - val_acc: 0.9748\n",
      "Epoch 198/200\n",
      "48000/48000 [==============================] - 1s 22us/step - loss: 0.0163 - acc: 0.9975 - val_loss: 0.0918 - val_acc: 0.9753\n",
      "Epoch 199/200\n",
      "48000/48000 [==============================] - 1s 23us/step - loss: 0.0162 - acc: 0.9975 - val_loss: 0.0914 - val_acc: 0.9750\n",
      "Epoch 200/200\n",
      "48000/48000 [==============================] - 1s 22us/step - loss: 0.0161 - acc: 0.9976 - val_loss: 0.0911 - val_acc: 0.9753\n",
      "10000/10000 [==============================] - 0s 25us/step\n"
     ]
    }
   ],
   "source": [
    "history = model.fit(X_train, Y_train,\n",
    "                    batch_size=BATCH_SIZE, epochs=NB_EPOCH,\n",
    "                    verbose=VERBOSE, validation_split=VALIDATION_SPLIT)\n",
    "score = model.evaluate(X_test, Y_test, verbose=VERBOSE)"
   ]
  },
  {
   "cell_type": "code",
   "execution_count": 26,
   "metadata": {},
   "outputs": [
    {
     "name": "stdout",
     "output_type": "stream",
     "text": [
      "\n",
      "Test score: 0.2771490333199501\n",
      "Test accuracy: 0.9234\n"
     ]
    }
   ],
   "source": [
    "print(\"\\nTest score:\", score[0])\n",
    "print('Test accuracy:', score[1])"
   ]
  },
  {
   "cell_type": "code",
   "execution_count": 45,
   "metadata": {},
   "outputs": [
    {
     "name": "stdout",
     "output_type": "stream",
     "text": [
      "dict_keys(['val_loss', 'val_acc', 'loss', 'acc'])\n"
     ]
    },
    {
     "data": {
      "image/png": "[encoded data removed]",
      "text/plain": [
       "<Figure size 432x288 with 1 Axes>"
      ]
     },
     "metadata": {},
     "output_type": "display_data"
    },
    {
     "data": {
      "image/png": "[encoded data removed]",
      "text/plain": [
       "<Figure size 432x288 with 1 Axes>"
      ]
     },
     "metadata": {},
     "output_type": "display_data"
    }
   ],
   "source": [
    "print(history.history.keys())\n",
    "# summarize history for accuracy\n",
    "plt.plot(history.history['acc'])\n",
    "plt.plot(history.history['val_acc'])\n",
    "plt.title('model accuracy')\n",
    "plt.ylabel('accuracy')\n",
    "plt.xlabel('epoch')\n",
    "plt.legend(['train', 'test'], loc='upper left')\n",
    "plt.show()\n",
    "# summarize history for loss\n",
    "plt.plot(history.history['loss'])\n",
    "plt.plot(history.history['val_loss'])\n",
    "plt.title('model loss')\n",
    "plt.ylabel('loss')\n",
    "plt.xlabel('epoch')\n",
    "plt.legend(['train', 'test'], loc='upper left')\n",
    "plt.show()"
   ]
  }
 ],
 "metadata": {
  "kernelspec": {
   "display_name": "Python 3",
   "language": "python",
   "name": "python3"
  },
  "language_info": {
   "codemirror_mode": {
    "name": "ipython",
    "version": 3
   },
   "file_extension": ".py",
   "mimetype": "text/x-python",
   "name": "python",
   "nbconvert_exporter": "python",
   "pygments_lexer": "ipython3",
   "version": "3.6.9"
  }
 },
 "nbformat": 4,
 "nbformat_minor": 2
}
